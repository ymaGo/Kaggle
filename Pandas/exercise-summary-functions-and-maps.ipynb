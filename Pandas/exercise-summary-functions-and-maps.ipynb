{
 "cells": [
  {
   "cell_type": "markdown",
   "metadata": {},
   "source": [
    "**This notebook is an exercise in the [Pandas](https://www.kaggle.com/learn/pandas) course.  You can reference the tutorial at [this link](https://www.kaggle.com/residentmario/summary-functions-and-maps).**\n",
    "\n",
    "---\n"
   ]
  },
  {
   "cell_type": "markdown",
   "metadata": {},
   "source": [
    "# Introduction\n",
    "\n",
    "Now you are ready to get a deeper understanding of your data.\n",
    "\n",
    "Run the following cell to load your data and some utility functions (including code to check your answers)."
   ]
  },
  {
   "cell_type": "code",
   "execution_count": null,
   "metadata": {
    "execution": {
     "iopub.execute_input": "2021-11-30T14:27:50.291058Z",
     "iopub.status.busy": "2021-11-30T14:27:50.290105Z",
     "iopub.status.idle": "2021-11-30T14:27:58.414677Z",
     "shell.execute_reply": "2021-11-30T14:27:58.413841Z",
     "shell.execute_reply.started": "2021-11-30T14:27:50.290931Z"
    }
   },
   "outputs": [],
   "source": [
    "import pandas as pd\n",
    "pd.set_option(\"display.max_rows\", 5)\n",
    "reviews = pd.read_csv(\"../input/wine-reviews/winemag-data-130k-v2.csv\", index_col=0)\n",
    "\n",
    "from learntools.core import binder; binder.bind(globals())\n",
    "from learntools.pandas.summary_functions_and_maps import *\n",
    "print(\"Setup complete.\")\n",
    "\n",
    "reviews.head()"
   ]
  },
  {
   "cell_type": "markdown",
   "metadata": {},
   "source": [
    "# Exercises"
   ]
  },
  {
   "cell_type": "markdown",
   "metadata": {},
   "source": [
    "## 1.\n",
    "\n",
    "What is the median of the `points` column in the `reviews` DataFrame?"
   ]
  },
  {
   "cell_type": "code",
   "execution_count": null,
   "metadata": {
    "execution": {
     "iopub.execute_input": "2021-11-30T11:58:25.160265Z",
     "iopub.status.busy": "2021-11-30T11:58:25.159965Z",
     "iopub.status.idle": "2021-11-30T11:58:25.170045Z",
     "shell.execute_reply": "2021-11-30T11:58:25.169116Z",
     "shell.execute_reply.started": "2021-11-30T11:58:25.160232Z"
    }
   },
   "outputs": [],
   "source": [
    "median_points = reviews.points.median()\n",
    "\n",
    "# Check your answer\n",
    "q1.check()"
   ]
  },
  {
   "cell_type": "code",
   "execution_count": null,
   "metadata": {},
   "outputs": [],
   "source": [
    "#q1.hint()\n",
    "#q1.solution()"
   ]
  },
  {
   "cell_type": "markdown",
   "metadata": {},
   "source": [
    "## 2. \n",
    "What countries are represented in the dataset? (Your answer should not include any duplicates.)"
   ]
  },
  {
   "cell_type": "code",
   "execution_count": null,
   "metadata": {
    "execution": {
     "iopub.execute_input": "2021-11-30T12:01:02.824105Z",
     "iopub.status.busy": "2021-11-30T12:01:02.823812Z",
     "iopub.status.idle": "2021-11-30T12:01:02.839823Z",
     "shell.execute_reply": "2021-11-30T12:01:02.839031Z",
     "shell.execute_reply.started": "2021-11-30T12:01:02.824075Z"
    }
   },
   "outputs": [],
   "source": [
    "countries = reviews.country.unique()\n",
    "\n",
    "# Check your answer\n",
    "q2.check()"
   ]
  },
  {
   "cell_type": "code",
   "execution_count": null,
   "metadata": {},
   "outputs": [],
   "source": [
    "#q2.hint()\n",
    "#q2.solution()"
   ]
  },
  {
   "cell_type": "markdown",
   "metadata": {},
   "source": [
    "## 3.\n",
    "How often does each country appear in the dataset? Create a Series `reviews_per_country` mapping countries to the count of reviews of wines from that country."
   ]
  },
  {
   "cell_type": "code",
   "execution_count": null,
   "metadata": {
    "execution": {
     "iopub.execute_input": "2021-11-30T12:02:30.308488Z",
     "iopub.status.busy": "2021-11-30T12:02:30.308063Z",
     "iopub.status.idle": "2021-11-30T12:02:30.327012Z",
     "shell.execute_reply": "2021-11-30T12:02:30.326096Z",
     "shell.execute_reply.started": "2021-11-30T12:02:30.308445Z"
    }
   },
   "outputs": [],
   "source": [
    "reviews_per_country = reviews.country.value_counts()\n",
    "\n",
    "# Check your answer\n",
    "q3.check()"
   ]
  },
  {
   "cell_type": "code",
   "execution_count": null,
   "metadata": {},
   "outputs": [],
   "source": [
    "#q3.hint()\n",
    "#q3.solution()"
   ]
  },
  {
   "cell_type": "markdown",
   "metadata": {},
   "source": [
    "## 4.\n",
    "Create variable `centered_price` containing a version of the `price` column with the mean price subtracted.\n",
    "\n",
    "(Note: this 'centering' transformation is a common preprocessing step before applying various machine learning algorithms.) "
   ]
  },
  {
   "cell_type": "code",
   "execution_count": null,
   "metadata": {
    "execution": {
     "iopub.execute_input": "2021-11-30T12:03:54.743256Z",
     "iopub.status.busy": "2021-11-30T12:03:54.742914Z",
     "iopub.status.idle": "2021-11-30T12:03:54.752167Z",
     "shell.execute_reply": "2021-11-30T12:03:54.751582Z",
     "shell.execute_reply.started": "2021-11-30T12:03:54.74322Z"
    }
   },
   "outputs": [],
   "source": [
    "centered_price = reviews.price-reviews.price.mean()\n",
    "\n",
    "# Check your answer\n",
    "q4.check()"
   ]
  },
  {
   "cell_type": "code",
   "execution_count": null,
   "metadata": {},
   "outputs": [],
   "source": [
    "#q4.hint()\n",
    "#q4.solution()"
   ]
  },
  {
   "cell_type": "markdown",
   "metadata": {},
   "source": [
    "## 5.\n",
    "I'm an economical wine buyer. Which wine is the \"best bargain\"? Create a variable `bargain_wine` with the title of the wine with the highest points-to-price ratio in the dataset."
   ]
  },
  {
   "cell_type": "raw",
   "metadata": {},
   "source": [
    "bargain_wine = reviews.points/\n",
    "\n",
    "# Check your answer\n",
    "q5.check()"
   ]
  },
  {
   "cell_type": "markdown",
   "metadata": {},
   "source": [
    "The cell above doesn't work."
   ]
  },
  {
   "cell_type": "markdown",
   "metadata": {},
   "source": []
  },
  {
   "cell_type": "code",
   "execution_count": null,
   "metadata": {
    "execution": {
     "iopub.execute_input": "2021-11-30T13:04:45.811132Z",
     "iopub.status.busy": "2021-11-30T13:04:45.810847Z",
     "iopub.status.idle": "2021-11-30T13:04:45.821701Z",
     "shell.execute_reply": "2021-11-30T13:04:45.82089Z",
     "shell.execute_reply.started": "2021-11-30T13:04:45.811102Z"
    }
   },
   "outputs": [],
   "source": [
    "reviews['ptp'] = reviews.points/reviews.price\n",
    "reviews_max = reviews.ptp.idxmax(axis=0, skipna=True)\n",
    "bargain_wine = reviews.title[reviews_max]\n",
    "\n",
    "# Check your answer\n",
    "q5.check()"
   ]
  },
  {
   "cell_type": "code",
   "execution_count": null,
   "metadata": {
    "execution": {
     "iopub.execute_input": "2021-11-30T14:28:27.378635Z",
     "iopub.status.busy": "2021-11-30T14:28:27.37835Z",
     "iopub.status.idle": "2021-11-30T14:28:27.390892Z",
     "shell.execute_reply": "2021-11-30T14:28:27.390065Z",
     "shell.execute_reply.started": "2021-11-30T14:28:27.378606Z"
    }
   },
   "outputs": [],
   "source": [
    "q5.hint()\n",
    "q5.solution()"
   ]
  },
  {
   "cell_type": "markdown",
   "metadata": {},
   "source": [
    "## 6.\n",
    "There are only so many words you can use when describing a bottle of wine. Is a wine more likely to be \"tropical\" or \"fruity\"? Create a Series `descriptor_counts` counting how many times each of these two words appears in the `description` column in the dataset."
   ]
  },
  {
   "cell_type": "code",
   "execution_count": null,
   "metadata": {
    "execution": {
     "iopub.execute_input": "2021-11-30T15:14:01.536827Z",
     "iopub.status.busy": "2021-11-30T15:14:01.536332Z",
     "iopub.status.idle": "2021-11-30T15:14:01.734569Z",
     "shell.execute_reply": "2021-11-30T15:14:01.733707Z",
     "shell.execute_reply.started": "2021-11-30T15:14:01.536773Z"
    }
   },
   "outputs": [],
   "source": [
    "des_tro = sum(reviews.description.map(lambda p: 'tropical' in p))\n",
    "des_fru = sum(reviews.description.map(lambda p: 'fruity' in p))\n",
    "# des_data = {'tropical':des_tro,'fruity':des_fru}\n",
    "# descriptor_counts = pd.Series(data=des_data,index=['tropical','fruity'])\n",
    "descriptor_counts = pd.Series({'tropical':des_tro,'fruity':des_fru})\n",
    "# Check your answer\n",
    "q6.check()"
   ]
  },
  {
   "cell_type": "code",
   "execution_count": null,
   "metadata": {
    "execution": {
     "iopub.execute_input": "2021-11-30T15:14:26.707653Z",
     "iopub.status.busy": "2021-11-30T15:14:26.706822Z",
     "iopub.status.idle": "2021-11-30T15:14:26.718911Z",
     "shell.execute_reply": "2021-11-30T15:14:26.718023Z",
     "shell.execute_reply.started": "2021-11-30T15:14:26.707603Z"
    }
   },
   "outputs": [],
   "source": [
    "q6.hint()\n",
    "q6.solution()"
   ]
  },
  {
   "cell_type": "markdown",
   "metadata": {},
   "source": [
    "## 7.\n",
    "We'd like to host these wine reviews on our website, but a rating system ranging from 80 to 100 points is too hard to understand - we'd like to translate them into simple star ratings. A score of 95 or higher counts as 3 stars, a score of at least 85 but less than 95 is 2 stars. Any other score is 1 star.\n",
    "\n",
    "Also, the Canadian Vintners Association bought a lot of ads on the site, so any wines from Canada should automatically get 3 stars, regardless of points.\n",
    "\n",
    "Create a series `star_ratings` with the number of stars corresponding to each review in the dataset."
   ]
  },
  {
   "cell_type": "code",
   "execution_count": null,
   "metadata": {
    "execution": {
     "iopub.execute_input": "2021-11-30T16:07:25.488219Z",
     "iopub.status.busy": "2021-11-30T16:07:25.487897Z",
     "iopub.status.idle": "2021-11-30T16:07:42.549669Z",
     "shell.execute_reply": "2021-11-30T16:07:42.548703Z",
     "shell.execute_reply.started": "2021-11-30T16:07:25.488174Z"
    }
   },
   "outputs": [],
   "source": [
    "def star_rating(row):\n",
    "    if row.country=='Canada' or row.points>=95:\n",
    "        row.points=3\n",
    "    elif row.points>=85:\n",
    "        row.points=2\n",
    "    else:\n",
    "        row.points=1\n",
    "    return row\n",
    "\n",
    "star_ratings = reviews.apply(star_rating,axis=1).points\n",
    "\n",
    "# Check your answer\n",
    "q7.check()"
   ]
  },
  {
   "cell_type": "markdown",
   "metadata": {},
   "source": [
    "map and apply will creat new Series or DataFrame. we need the start_ratings of the new but not the point of the original one. if you code as star_ratings = reviewers.points, you will get the original record. Therefore you should directly assigned the .apply results to the star_ratings."
   ]
  },
  {
   "cell_type": "code",
   "execution_count": null,
   "metadata": {
    "execution": {
     "iopub.execute_input": "2021-11-30T16:13:04.320719Z",
     "iopub.status.busy": "2021-11-30T16:13:04.319738Z",
     "iopub.status.idle": "2021-11-30T16:13:04.335599Z",
     "shell.execute_reply": "2021-11-30T16:13:04.334676Z",
     "shell.execute_reply.started": "2021-11-30T16:13:04.320669Z"
    }
   },
   "outputs": [],
   "source": [
    "q7.hint()\n",
    "q7.solution()"
   ]
  },
  {
   "cell_type": "markdown",
   "metadata": {},
   "source": [
    "this give me deeper impressions that the .apply map function will creat new DataFrame or Series, it don't need any variable to stored the result."
   ]
  },
  {
   "cell_type": "markdown",
   "metadata": {},
   "source": [
    "I think the output of above code is DataFrame but not Series."
   ]
  },
  {
   "cell_type": "markdown",
   "metadata": {},
   "source": [
    "# Keep going\n",
    "Continue to **[grouping and sorting](https://www.kaggle.com/residentmario/grouping-and-sorting)**."
   ]
  },
  {
   "cell_type": "markdown",
   "metadata": {},
   "source": [
    "---\n",
    "\n",
    "\n",
    "\n",
    "\n",
    "*Have questions or comments? Visit the [course discussion forum](https://www.kaggle.com/learn/pandas/discussion) to chat with other learners.*"
   ]
  }
 ],
 "metadata": {
  "kernelspec": {
   "display_name": "Python 3",
   "language": "python",
   "name": "python3"
  },
  "language_info": {
   "codemirror_mode": {
    "name": "ipython",
    "version": 3
   },
   "file_extension": ".py",
   "mimetype": "text/x-python",
   "name": "python",
   "nbconvert_exporter": "python",
   "pygments_lexer": "ipython3",
   "version": "3.7.3"
  }
 },
 "nbformat": 4,
 "nbformat_minor": 4
}
