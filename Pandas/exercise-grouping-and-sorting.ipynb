{
 "cells": [
  {
   "cell_type": "markdown",
   "metadata": {},
   "source": [
    "**This notebook is an exercise in the [Pandas](https://www.kaggle.com/learn/pandas) course.  You can reference the tutorial at [this link](https://www.kaggle.com/residentmario/grouping-and-sorting).**\n",
    "\n",
    "---\n"
   ]
  },
  {
   "cell_type": "markdown",
   "metadata": {},
   "source": [
    "# Introduction\n",
    "\n",
    "In these exercises we'll apply groupwise analysis to our dataset.\n",
    "\n",
    "Run the code cell below to load the data before running the exercises."
   ]
  },
  {
   "cell_type": "code",
   "execution_count": null,
   "metadata": {
    "execution": {
     "iopub.execute_input": "2021-12-01T00:26:40.049616Z",
     "iopub.status.busy": "2021-12-01T00:26:40.048947Z",
     "iopub.status.idle": "2021-12-01T00:26:43.573188Z",
     "shell.execute_reply": "2021-12-01T00:26:43.571728Z",
     "shell.execute_reply.started": "2021-12-01T00:26:40.04952Z"
    }
   },
   "outputs": [],
   "source": [
    "import pandas as pd\n",
    "\n",
    "reviews = pd.read_csv(\"../input/wine-reviews/winemag-data-130k-v2.csv\", index_col=0)\n",
    "#pd.set_option(\"display.max_rows\", 5)\n",
    "\n",
    "from learntools.core import binder; binder.bind(globals())\n",
    "from learntools.pandas.grouping_and_sorting import *\n",
    "print(\"Setup complete.\")"
   ]
  },
  {
   "cell_type": "markdown",
   "metadata": {},
   "source": [
    "# Exercises"
   ]
  },
  {
   "cell_type": "markdown",
   "metadata": {},
   "source": [
    "## 1.\n",
    "Who are the most common wine reviewers in the dataset? Create a `Series` whose index is the `taster_twitter_handle` category from the dataset, and whose values count how many reviews each person wrote."
   ]
  },
  {
   "cell_type": "code",
   "execution_count": null,
   "metadata": {
    "execution": {
     "iopub.execute_input": "2021-12-01T00:29:43.481394Z",
     "iopub.status.busy": "2021-12-01T00:29:43.480598Z",
     "iopub.status.idle": "2021-12-01T00:29:43.521194Z",
     "shell.execute_reply": "2021-12-01T00:29:43.520437Z",
     "shell.execute_reply.started": "2021-12-01T00:29:43.481343Z"
    }
   },
   "outputs": [],
   "source": [
    "# Your code here\n",
    "reviews_written = reviews.groupby('taster_twitter_handle').taster_twitter_handle.count()\n",
    "\n",
    "# Check your answer\n",
    "q1.check()"
   ]
  },
  {
   "cell_type": "code",
   "execution_count": null,
   "metadata": {},
   "outputs": [],
   "source": [
    "#q1.hint()\n",
    "#q1.solution()"
   ]
  },
  {
   "cell_type": "markdown",
   "metadata": {},
   "source": [
    "## 2.\n",
    "What is the best wine I can buy for a given amount of money? Create a `Series` whose index is wine prices and whose values is the maximum number of points a wine costing that much was given in a review. Sort the values by price, ascending (so that `4.0` dollars is at the top and `3300.0` dollars is at the bottom)."
   ]
  },
  {
   "cell_type": "code",
   "execution_count": null,
   "metadata": {
    "execution": {
     "iopub.execute_input": "2021-12-01T00:40:36.883991Z",
     "iopub.status.busy": "2021-12-01T00:40:36.883682Z",
     "iopub.status.idle": "2021-12-01T00:40:36.89607Z",
     "shell.execute_reply": "2021-12-01T00:40:36.895064Z",
     "shell.execute_reply.started": "2021-12-01T00:40:36.883959Z"
    }
   },
   "outputs": [],
   "source": [
    "best_rating_per_price = reviews.groupby('price').points.max()\n",
    "\n",
    "# Check your answer\n",
    "q2.check()"
   ]
  },
  {
   "cell_type": "code",
   "execution_count": null,
   "metadata": {},
   "outputs": [],
   "source": [
    "#q2.hint()\n",
    "#q2.solution()"
   ]
  },
  {
   "cell_type": "markdown",
   "metadata": {},
   "source": [
    "## 3.\n",
    "What are the minimum and maximum prices for each `variety` of wine? Create a `DataFrame` whose index is the `variety` category from the dataset and whose values are the `min` and `max` values thereof."
   ]
  },
  {
   "cell_type": "code",
   "execution_count": null,
   "metadata": {
    "execution": {
     "iopub.execute_input": "2021-12-01T00:41:56.376372Z",
     "iopub.status.busy": "2021-12-01T00:41:56.375843Z",
     "iopub.status.idle": "2021-12-01T00:41:56.409939Z",
     "shell.execute_reply": "2021-12-01T00:41:56.409017Z",
     "shell.execute_reply.started": "2021-12-01T00:41:56.376339Z"
    }
   },
   "outputs": [],
   "source": [
    "price_extremes = reviews.groupby('variety').price.agg([min,max])\n",
    "\n",
    "# Check your answer\n",
    "q3.check()"
   ]
  },
  {
   "cell_type": "code",
   "execution_count": null,
   "metadata": {},
   "outputs": [],
   "source": [
    "#q3.hint()\n",
    "#q3.solution()"
   ]
  },
  {
   "cell_type": "markdown",
   "metadata": {},
   "source": [
    "## 4.\n",
    "What are the most expensive wine varieties? Create a variable `sorted_varieties` containing a copy of the dataframe from the previous question where varieties are sorted in descending order based on minimum price, then on maximum price (to break ties)."
   ]
  },
  {
   "cell_type": "code",
   "execution_count": null,
   "metadata": {
    "execution": {
     "iopub.execute_input": "2021-12-01T00:45:51.582286Z",
     "iopub.status.busy": "2021-12-01T00:45:51.581205Z",
     "iopub.status.idle": "2021-12-01T00:45:51.615466Z",
     "shell.execute_reply": "2021-12-01T00:45:51.614601Z",
     "shell.execute_reply.started": "2021-12-01T00:45:51.582229Z"
    }
   },
   "outputs": [],
   "source": [
    "sorted_varieties = reviews.groupby('variety').price.agg([min,max]).sort_values(by=['min','max'],ascending=False)\n",
    "\n",
    "# Check your answer\n",
    "q4.check()"
   ]
  },
  {
   "cell_type": "code",
   "execution_count": null,
   "metadata": {},
   "outputs": [],
   "source": [
    "#q4.hint()\n",
    "#q4.solution()"
   ]
  },
  {
   "cell_type": "markdown",
   "metadata": {},
   "source": [
    "## 5.\n",
    "Create a `Series` whose index is reviewers and whose values is the average review score given out by that reviewer. Hint: you will need the `taster_name` and `points` columns."
   ]
  },
  {
   "cell_type": "code",
   "execution_count": null,
   "metadata": {
    "execution": {
     "iopub.execute_input": "2021-12-01T00:48:49.596962Z",
     "iopub.status.busy": "2021-12-01T00:48:49.596482Z",
     "iopub.status.idle": "2021-12-01T00:48:49.624627Z",
     "shell.execute_reply": "2021-12-01T00:48:49.623919Z",
     "shell.execute_reply.started": "2021-12-01T00:48:49.596902Z"
    }
   },
   "outputs": [],
   "source": [
    "reviewer_mean_ratings = reviews.groupby('taster_name').points.mean()\n",
    "\n",
    "# Check your answer\n",
    "q5.check()"
   ]
  },
  {
   "cell_type": "code",
   "execution_count": null,
   "metadata": {
    "execution": {
     "iopub.execute_input": "2021-12-01T00:48:40.065348Z",
     "iopub.status.busy": "2021-12-01T00:48:40.064716Z",
     "iopub.status.idle": "2021-12-01T00:48:40.072925Z",
     "shell.execute_reply": "2021-12-01T00:48:40.072021Z",
     "shell.execute_reply.started": "2021-12-01T00:48:40.065306Z"
    }
   },
   "outputs": [],
   "source": [
    "q5.hint()\n",
    "#q5.solution()"
   ]
  },
  {
   "cell_type": "markdown",
   "metadata": {},
   "source": [
    "Are there significant differences in the average scores assigned by the various reviewers? Run the cell below to use the `describe()` method to see a summary of the range of values."
   ]
  },
  {
   "cell_type": "code",
   "execution_count": null,
   "metadata": {
    "execution": {
     "iopub.execute_input": "2021-12-01T00:49:23.826202Z",
     "iopub.status.busy": "2021-12-01T00:49:23.825936Z",
     "iopub.status.idle": "2021-12-01T00:49:23.837169Z",
     "shell.execute_reply": "2021-12-01T00:49:23.836642Z",
     "shell.execute_reply.started": "2021-12-01T00:49:23.826172Z"
    }
   },
   "outputs": [],
   "source": [
    "reviewer_mean_ratings.describe()"
   ]
  },
  {
   "cell_type": "markdown",
   "metadata": {},
   "source": [
    "## 6.\n",
    "What combination of countries and varieties are most common? Create a `Series` whose index is a `MultiIndex`of `{country, variety}` pairs. For example, a pinot noir produced in the US should map to `{\"US\", \"Pinot Noir\"}`. Sort the values in the `Series` in descending order based on wine count."
   ]
  },
  {
   "cell_type": "code",
   "execution_count": null,
   "metadata": {
    "execution": {
     "iopub.execute_input": "2021-12-01T01:06:51.030459Z",
     "iopub.status.busy": "2021-12-01T01:06:51.029867Z",
     "iopub.status.idle": "2021-12-01T01:06:51.085304Z",
     "shell.execute_reply": "2021-12-01T01:06:51.08473Z",
     "shell.execute_reply.started": "2021-12-01T01:06:51.030422Z"
    }
   },
   "outputs": [],
   "source": [
    "country_variety_counts = reviews.groupby(['country','variety']).description.size().sort_values(ascending=False)\n",
    "print(country_variety_counts)\n",
    "# Check your answer\n",
    "q6.check()"
   ]
  },
  {
   "cell_type": "markdown",
   "metadata": {},
   "source": [
    "groupby will automatically create index, and I think sort_values don't need specity the 'by' parameter when there is one column of data."
   ]
  },
  {
   "cell_type": "code",
   "execution_count": null,
   "metadata": {
    "execution": {
     "iopub.execute_input": "2021-12-01T01:10:28.335256Z",
     "iopub.status.busy": "2021-12-01T01:10:28.334661Z",
     "iopub.status.idle": "2021-12-01T01:10:28.343891Z",
     "shell.execute_reply": "2021-12-01T01:10:28.343304Z",
     "shell.execute_reply.started": "2021-12-01T01:10:28.33522Z"
    }
   },
   "outputs": [],
   "source": [
    "q6.hint()\n",
    "q6.solution()"
   ]
  },
  {
   "cell_type": "markdown",
   "metadata": {},
   "source": [
    "# Keep going\n",
    "\n",
    "Move on to the [**data types and missing data**](https://www.kaggle.com/residentmario/data-types-and-missing-values)."
   ]
  },
  {
   "cell_type": "markdown",
   "metadata": {},
   "source": [
    "---\n",
    "\n",
    "\n",
    "\n",
    "\n",
    "*Have questions or comments? Visit the [course discussion forum](https://www.kaggle.com/learn/pandas/discussion) to chat with other learners.*"
   ]
  }
 ],
 "metadata": {
  "kernelspec": {
   "display_name": "Python 3",
   "language": "python",
   "name": "python3"
  },
  "language_info": {
   "codemirror_mode": {
    "name": "ipython",
    "version": 3
   },
   "file_extension": ".py",
   "mimetype": "text/x-python",
   "name": "python",
   "nbconvert_exporter": "python",
   "pygments_lexer": "ipython3",
   "version": "3.7.3"
  }
 },
 "nbformat": 4,
 "nbformat_minor": 4
}
