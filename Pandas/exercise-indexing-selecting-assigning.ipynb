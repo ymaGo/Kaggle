{
 "cells": [
  {
   "cell_type": "markdown",
   "metadata": {},
   "source": [
    "**This notebook is an exercise in the [Pandas](https://www.kaggle.com/learn/pandas) course.  You can reference the tutorial at [this link](https://www.kaggle.com/residentmario/indexing-selecting-assigning).**\n",
    "\n",
    "---\n"
   ]
  },
  {
   "cell_type": "markdown",
   "metadata": {},
   "source": [
    "# Introduction\n",
    "\n",
    "In this set of exercises we will work with the [Wine Reviews dataset](https://www.kaggle.com/zynicide/wine-reviews). "
   ]
  },
  {
   "cell_type": "markdown",
   "metadata": {},
   "source": [
    "Run the following cell to load your data and some utility functions (including code to check your answers)."
   ]
  },
  {
   "cell_type": "code",
   "execution_count": null,
   "metadata": {
    "execution": {
     "iopub.execute_input": "2021-11-30T01:48:21.867995Z",
     "iopub.status.busy": "2021-11-30T01:48:21.867537Z",
     "iopub.status.idle": "2021-11-30T01:48:24.796367Z",
     "shell.execute_reply": "2021-11-30T01:48:24.795141Z",
     "shell.execute_reply.started": "2021-11-30T01:48:21.867907Z"
    }
   },
   "outputs": [],
   "source": [
    "import pandas as pd\n",
    "\n",
    "reviews = pd.read_csv(\"../input/wine-reviews/winemag-data-130k-v2.csv\", index_col=0)\n",
    "pd.set_option(\"display.max_rows\", 5)\n",
    "\n",
    "from learntools.core import binder; binder.bind(globals())\n",
    "from learntools.pandas.indexing_selecting_and_assigning import *\n",
    "print(\"Setup complete.\")"
   ]
  },
  {
   "cell_type": "markdown",
   "metadata": {},
   "source": [
    "Look at an overview of your data by running the following line."
   ]
  },
  {
   "cell_type": "code",
   "execution_count": null,
   "metadata": {
    "execution": {
     "iopub.execute_input": "2021-11-30T01:48:39.677778Z",
     "iopub.status.busy": "2021-11-30T01:48:39.677277Z",
     "iopub.status.idle": "2021-11-30T01:48:39.703082Z",
     "shell.execute_reply": "2021-11-30T01:48:39.702124Z",
     "shell.execute_reply.started": "2021-11-30T01:48:39.677745Z"
    }
   },
   "outputs": [],
   "source": [
    "reviews.head()"
   ]
  },
  {
   "cell_type": "markdown",
   "metadata": {},
   "source": [
    "# Exercises"
   ]
  },
  {
   "cell_type": "markdown",
   "metadata": {},
   "source": [
    "## 1.\n",
    "\n",
    "Select the `description` column from `reviews` and assign the result to the variable `desc`."
   ]
  },
  {
   "cell_type": "code",
   "execution_count": null,
   "metadata": {
    "execution": {
     "iopub.execute_input": "2021-11-30T01:51:15.035034Z",
     "iopub.status.busy": "2021-11-30T01:51:15.034565Z",
     "iopub.status.idle": "2021-11-30T01:51:15.042857Z",
     "shell.execute_reply": "2021-11-30T01:51:15.042249Z",
     "shell.execute_reply.started": "2021-11-30T01:51:15.034986Z"
    }
   },
   "outputs": [],
   "source": [
    "# Your code here\n",
    "desc = reviews['description']\n",
    "print(type(desc))\n",
    "# Check your answer\n",
    "q1.check()"
   ]
  },
  {
   "cell_type": "markdown",
   "metadata": {},
   "source": [
    "Follow-up question: what type of object is `desc`? If you're not sure, you can check by calling Python's `type` function: `type(desc)`."
   ]
  },
  {
   "cell_type": "code",
   "execution_count": null,
   "metadata": {},
   "outputs": [],
   "source": [
    "#q1.hint()\n",
    "#q1.solution()"
   ]
  },
  {
   "cell_type": "markdown",
   "metadata": {},
   "source": [
    "## 2.\n",
    "\n",
    "Select the first value from the description column of `reviews`, assigning it to variable `first_description`."
   ]
  },
  {
   "cell_type": "code",
   "execution_count": null,
   "metadata": {
    "execution": {
     "iopub.execute_input": "2021-11-30T02:01:34.784093Z",
     "iopub.status.busy": "2021-11-30T02:01:34.783759Z",
     "iopub.status.idle": "2021-11-30T02:01:34.803289Z",
     "shell.execute_reply": "2021-11-30T02:01:34.802447Z",
     "shell.execute_reply.started": "2021-11-30T02:01:34.784059Z"
    }
   },
   "outputs": [],
   "source": [
    "first_description = reviews['description'][0]\n",
    "first_description = reviews.descrption.iloc[0]\n",
    "\n",
    "# Check your answer\n",
    "q2.check()\n",
    "first_description"
   ]
  },
  {
   "cell_type": "code",
   "execution_count": null,
   "metadata": {},
   "outputs": [],
   "source": [
    "#q2.hint()\n",
    "#q2.solution()"
   ]
  },
  {
   "cell_type": "markdown",
   "metadata": {},
   "source": [
    "## 3. \n",
    "\n",
    "Select the first row of data (the first record) from `reviews`, assigning it to the variable `first_row`."
   ]
  },
  {
   "cell_type": "code",
   "execution_count": null,
   "metadata": {
    "execution": {
     "iopub.execute_input": "2021-11-30T02:03:06.518217Z",
     "iopub.status.busy": "2021-11-30T02:03:06.517323Z",
     "iopub.status.idle": "2021-11-30T02:03:06.532326Z",
     "shell.execute_reply": "2021-11-30T02:03:06.531687Z",
     "shell.execute_reply.started": "2021-11-30T02:03:06.518159Z"
    }
   },
   "outputs": [],
   "source": [
    "first_row = reviews.iloc[0]\n",
    "\n",
    "# Check your answer\n",
    "q3.check()\n",
    "first_row"
   ]
  },
  {
   "cell_type": "code",
   "execution_count": null,
   "metadata": {},
   "outputs": [],
   "source": [
    "#q3.hint()\n",
    "#q3.solution()"
   ]
  },
  {
   "cell_type": "markdown",
   "metadata": {},
   "source": [
    "## 4.\n",
    "\n",
    "Select the first 10 values from the `description` column in `reviews`, assigning the result to variable `first_descriptions`.\n",
    "\n",
    "Hint: format your output as a pandas Series."
   ]
  },
  {
   "cell_type": "code",
   "execution_count": null,
   "metadata": {
    "execution": {
     "iopub.execute_input": "2021-11-30T02:04:39.678478Z",
     "iopub.status.busy": "2021-11-30T02:04:39.678206Z",
     "iopub.status.idle": "2021-11-30T02:04:39.69278Z",
     "shell.execute_reply": "2021-11-30T02:04:39.691866Z",
     "shell.execute_reply.started": "2021-11-30T02:04:39.67845Z"
    }
   },
   "outputs": [],
   "source": [
    "first_descriptions = reviews['description'][:10]\n",
    "first_descriptions = reviews.description.iloc[:10]\n",
    "\n",
    "# Check your answer\n",
    "q4.check()\n",
    "first_descriptions"
   ]
  },
  {
   "cell_type": "code",
   "execution_count": null,
   "metadata": {},
   "outputs": [],
   "source": [
    "#q4.hint()\n",
    "#q4.solution()"
   ]
  },
  {
   "cell_type": "markdown",
   "metadata": {},
   "source": [
    "## 5.\n",
    "\n",
    "Select the records with index labels `1`, `2`, `3`, `5`, and `8`, assigning the result to the variable `sample_reviews`.\n",
    "\n",
    "In other words, generate the following DataFrame:\n",
    "\n",
    "![](https://i.imgur.com/sHZvI1O.png)"
   ]
  },
  {
   "cell_type": "code",
   "execution_count": null,
   "metadata": {
    "execution": {
     "iopub.execute_input": "2021-11-30T02:06:52.226518Z",
     "iopub.status.busy": "2021-11-30T02:06:52.225746Z",
     "iopub.status.idle": "2021-11-30T02:06:52.253418Z",
     "shell.execute_reply": "2021-11-30T02:06:52.252423Z",
     "shell.execute_reply.started": "2021-11-30T02:06:52.22647Z"
    }
   },
   "outputs": [],
   "source": [
    "sample_reviews = reviews.iloc[[1,2,3,5,8]]\n",
    "\n",
    "# Check your answer\n",
    "q5.check()\n",
    "sample_reviews"
   ]
  },
  {
   "cell_type": "code",
   "execution_count": null,
   "metadata": {},
   "outputs": [],
   "source": [
    "#q5.hint()\n",
    "#q5.solution()"
   ]
  },
  {
   "cell_type": "markdown",
   "metadata": {},
   "source": [
    "## 6.\n",
    "\n",
    "Create a variable `df` containing the `country`, `province`, `region_1`, and `region_2` columns of the records with the index labels `0`, `1`, `10`, and `100`. In other words, generate the following DataFrame:\n",
    "\n",
    "![](https://i.imgur.com/FUCGiKP.png)"
   ]
  },
  {
   "cell_type": "code",
   "execution_count": null,
   "metadata": {
    "execution": {
     "iopub.execute_input": "2021-11-30T02:18:10.780464Z",
     "iopub.status.busy": "2021-11-30T02:18:10.780189Z",
     "iopub.status.idle": "2021-11-30T02:18:10.803957Z",
     "shell.execute_reply": "2021-11-30T02:18:10.803255Z",
     "shell.execute_reply.started": "2021-11-30T02:18:10.780436Z"
    }
   },
   "outputs": [],
   "source": [
    "# df = reviews[['country','province','region_1','region_2']].iloc[[0,1,10,100]]\n",
    "\n",
    "cols = ['country','province','region_1','region_2']\n",
    "indices = [0,1,10,100]\n",
    "df = reviews.loc[indices,cols]\n",
    "# Check your answer\n",
    "q6.check()\n",
    "df"
   ]
  },
  {
   "cell_type": "code",
   "execution_count": null,
   "metadata": {
    "execution": {
     "iopub.execute_input": "2021-11-30T02:12:02.094828Z",
     "iopub.status.busy": "2021-11-30T02:12:02.094278Z",
     "iopub.status.idle": "2021-11-30T02:12:02.104097Z",
     "shell.execute_reply": "2021-11-30T02:12:02.103335Z",
     "shell.execute_reply.started": "2021-11-30T02:12:02.094786Z"
    }
   },
   "outputs": [],
   "source": [
    "q6.hint()\n",
    "q6.solution()"
   ]
  },
  {
   "cell_type": "markdown",
   "metadata": {},
   "source": [
    "## 7.\n",
    "\n",
    "Create a variable `df` containing the `country` and `variety` columns of the first 100 records. \n",
    "\n",
    "Hint: you may use `loc` or `iloc`. When working on the answer this question and the several of the ones that follow, keep the following \"gotcha\" described in the tutorial:\n",
    "\n",
    "> `iloc` uses the Python stdlib indexing scheme, where the first element of the range is included and the last one excluded. \n",
    "`loc`, meanwhile, indexes inclusively. \n",
    "\n",
    "> This is particularly confusing when the DataFrame index is a simple numerical list, e.g. `0,...,1000`. In this case `df.iloc[0:1000]` will return 1000 entries, while `df.loc[0:1000]` return 1001 of them! To get 1000 elements using `loc`, you will need to go one lower and ask for `df.iloc[0:999]`. "
   ]
  },
  {
   "cell_type": "code",
   "execution_count": null,
   "metadata": {
    "execution": {
     "iopub.execute_input": "2021-11-30T02:24:27.555526Z",
     "iopub.status.busy": "2021-11-30T02:24:27.555189Z",
     "iopub.status.idle": "2021-11-30T02:24:27.574032Z",
     "shell.execute_reply": "2021-11-30T02:24:27.57325Z",
     "shell.execute_reply.started": "2021-11-30T02:24:27.555493Z"
    }
   },
   "outputs": [],
   "source": [
    "df = reviews.loc[:99,['country','variety']]\n",
    "\n",
    "# Check your answer\n",
    "q7.check()\n",
    "df"
   ]
  },
  {
   "cell_type": "code",
   "execution_count": null,
   "metadata": {},
   "outputs": [],
   "source": [
    "#q7.hint()\n",
    "#q7.solution()"
   ]
  },
  {
   "cell_type": "markdown",
   "metadata": {},
   "source": [
    "## 8.\n",
    "\n",
    "Create a DataFrame `italian_wines` containing reviews of wines made in `Italy`. Hint: `reviews.country` equals what?"
   ]
  },
  {
   "cell_type": "code",
   "execution_count": null,
   "metadata": {
    "execution": {
     "iopub.execute_input": "2021-11-30T02:35:51.292412Z",
     "iopub.status.busy": "2021-11-30T02:35:51.291873Z",
     "iopub.status.idle": "2021-11-30T02:35:51.336855Z",
     "shell.execute_reply": "2021-11-30T02:35:51.335907Z",
     "shell.execute_reply.started": "2021-11-30T02:35:51.292366Z"
    }
   },
   "outputs": [],
   "source": [
    "italian_wines = reviews.loc[reviews.country=='Italy']\n",
    "\n",
    "# Check your answer\n",
    "q8.check()"
   ]
  },
  {
   "cell_type": "code",
   "execution_count": null,
   "metadata": {},
   "outputs": [],
   "source": [
    "#q8.hint()\n",
    "#q8.solution()"
   ]
  },
  {
   "cell_type": "markdown",
   "metadata": {},
   "source": [
    "## 9.\n",
    "\n",
    "Create a DataFrame `top_oceania_wines` containing all reviews with at least 95 points (out of 100) for wines from Australia or New Zealand."
   ]
  },
  {
   "cell_type": "code",
   "execution_count": null,
   "metadata": {
    "execution": {
     "iopub.execute_input": "2021-11-30T03:00:00.391812Z",
     "iopub.status.busy": "2021-11-30T03:00:00.391548Z",
     "iopub.status.idle": "2021-11-30T03:00:00.45782Z",
     "shell.execute_reply": "2021-11-30T03:00:00.457239Z",
     "shell.execute_reply.started": "2021-11-30T03:00:00.391785Z"
    }
   },
   "outputs": [],
   "source": [
    "top_oceania_wines = reviews.loc[((reviews.country=='Australia') | (reviews.country=='New Zealand')) & (reviews.points>=95) ]\n",
    "# top_oceania_wines = reviews.loc[(reviews.country.isin(['Australia','New Zealand']))&(reviews.points>=95) ]\n",
    "# Check your answer\n",
    "q9.check()\n",
    "top_oceania_wines"
   ]
  },
  {
   "cell_type": "code",
   "execution_count": null,
   "metadata": {
    "execution": {
     "iopub.execute_input": "2021-11-30T02:56:29.320834Z",
     "iopub.status.busy": "2021-11-30T02:56:29.320047Z",
     "iopub.status.idle": "2021-11-30T02:56:29.334285Z",
     "shell.execute_reply": "2021-11-30T02:56:29.333675Z",
     "shell.execute_reply.started": "2021-11-30T02:56:29.320787Z"
    }
   },
   "outputs": [],
   "source": [
    "q9.hint()\n",
    "q9.solution()"
   ]
  },
  {
   "cell_type": "markdown",
   "metadata": {},
   "source": [
    "# Keep going\n",
    "\n",
    "Move on to learn about **[summary functions and maps](https://www.kaggle.com/residentmario/summary-functions-and-maps)**."
   ]
  },
  {
   "cell_type": "markdown",
   "metadata": {},
   "source": [
    "---\n",
    "\n",
    "\n",
    "\n",
    "\n",
    "*Have questions or comments? Visit the [course discussion forum](https://www.kaggle.com/learn/pandas/discussion) to chat with other learners.*"
   ]
  }
 ],
 "metadata": {
  "kernelspec": {
   "display_name": "Python 3",
   "language": "python",
   "name": "python3"
  },
  "language_info": {
   "codemirror_mode": {
    "name": "ipython",
    "version": 3
   },
   "file_extension": ".py",
   "mimetype": "text/x-python",
   "name": "python",
   "nbconvert_exporter": "python",
   "pygments_lexer": "ipython3",
   "version": "3.7.3"
  }
 },
 "nbformat": 4,
 "nbformat_minor": 4
}
