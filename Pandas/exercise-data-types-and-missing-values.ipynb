{
 "cells": [
  {
   "cell_type": "markdown",
   "metadata": {},
   "source": [
    "**This notebook is an exercise in the [Pandas](https://www.kaggle.com/learn/pandas) course.  You can reference the tutorial at [this link](https://www.kaggle.com/residentmario/data-types-and-missing-values).**\n",
    "\n",
    "---\n"
   ]
  },
  {
   "cell_type": "markdown",
   "metadata": {},
   "source": [
    "# Introduction\n",
    "\n",
    "Run the following cell to load your data and some utility functions."
   ]
  },
  {
   "cell_type": "code",
   "execution_count": null,
   "metadata": {
    "execution": {
     "iopub.execute_input": "2021-12-01T01:29:24.181711Z",
     "iopub.status.busy": "2021-12-01T01:29:24.181089Z",
     "iopub.status.idle": "2021-12-01T01:29:27.378493Z",
     "shell.execute_reply": "2021-12-01T01:29:27.376765Z",
     "shell.execute_reply.started": "2021-12-01T01:29:24.181594Z"
    }
   },
   "outputs": [],
   "source": [
    "import pandas as pd\n",
    "\n",
    "reviews = pd.read_csv(\"../input/wine-reviews/winemag-data-130k-v2.csv\", index_col=0)\n",
    "\n",
    "from learntools.core import binder; binder.bind(globals())\n",
    "from learntools.pandas.data_types_and_missing_data import *\n",
    "print(\"Setup complete.\")"
   ]
  },
  {
   "cell_type": "markdown",
   "metadata": {},
   "source": [
    "# Exercises"
   ]
  },
  {
   "cell_type": "markdown",
   "metadata": {},
   "source": [
    "## 1. \n",
    "What is the data type of the `points` column in the dataset?"
   ]
  },
  {
   "cell_type": "code",
   "execution_count": null,
   "metadata": {
    "execution": {
     "iopub.execute_input": "2021-12-01T01:30:33.969503Z",
     "iopub.status.busy": "2021-12-01T01:30:33.969162Z",
     "iopub.status.idle": "2021-12-01T01:30:33.981772Z",
     "shell.execute_reply": "2021-12-01T01:30:33.980561Z",
     "shell.execute_reply.started": "2021-12-01T01:30:33.969469Z"
    }
   },
   "outputs": [],
   "source": [
    "# Your code here\n",
    "dtype = reviews.points.dtype\n",
    "\n",
    "# Check your answer\n",
    "q1.check()"
   ]
  },
  {
   "cell_type": "code",
   "execution_count": null,
   "metadata": {},
   "outputs": [],
   "source": [
    "#q1.hint()\n",
    "#q1.solution()"
   ]
  },
  {
   "cell_type": "markdown",
   "metadata": {},
   "source": [
    "## 2. \n",
    "Create a Series from entries in the `points` column, but convert the entries to strings. Hint: strings are `str` in native Python."
   ]
  },
  {
   "cell_type": "code",
   "execution_count": null,
   "metadata": {
    "execution": {
     "iopub.execute_input": "2021-12-01T01:31:24.457085Z",
     "iopub.status.busy": "2021-12-01T01:31:24.456671Z",
     "iopub.status.idle": "2021-12-01T01:31:24.626543Z",
     "shell.execute_reply": "2021-12-01T01:31:24.625382Z",
     "shell.execute_reply.started": "2021-12-01T01:31:24.457046Z"
    }
   },
   "outputs": [],
   "source": [
    "point_strings = reviews.points.astype(str)\n",
    "\n",
    "# Check your answer\n",
    "q2.check()"
   ]
  },
  {
   "cell_type": "code",
   "execution_count": null,
   "metadata": {},
   "outputs": [],
   "source": [
    "#q2.hint()\n",
    "#q2.solution()"
   ]
  },
  {
   "cell_type": "markdown",
   "metadata": {},
   "source": [
    "## 3.\n",
    "Sometimes the price column is null. How many reviews in the dataset are missing a price?"
   ]
  },
  {
   "cell_type": "code",
   "execution_count": null,
   "metadata": {
    "execution": {
     "iopub.execute_input": "2021-12-01T02:03:30.49284Z",
     "iopub.status.busy": "2021-12-01T02:03:30.492541Z",
     "iopub.status.idle": "2021-12-01T02:03:30.502757Z",
     "shell.execute_reply": "2021-12-01T02:03:30.501957Z",
     "shell.execute_reply.started": "2021-12-01T02:03:30.49281Z"
    }
   },
   "outputs": [],
   "source": [
    "# n_missing_prices = len(reviews[pd.isnull(reviews.price)].index)\n",
    "n_missing_prices = reviews.price.isnull().sum()\n",
    "\n",
    "# Check your answer\n",
    "q3.check()"
   ]
  },
  {
   "cell_type": "markdown",
   "metadata": {},
   "source": [
    "the 'index' of the code above can be replaced by any title of the column."
   ]
  },
  {
   "cell_type": "code",
   "execution_count": null,
   "metadata": {
    "execution": {
     "iopub.execute_input": "2021-12-01T02:02:00.876025Z",
     "iopub.status.busy": "2021-12-01T02:02:00.875672Z",
     "iopub.status.idle": "2021-12-01T02:02:00.887541Z",
     "shell.execute_reply": "2021-12-01T02:02:00.886801Z",
     "shell.execute_reply.started": "2021-12-01T02:02:00.875975Z"
    }
   },
   "outputs": [],
   "source": [
    "q3.hint()\n",
    "q3.solution()"
   ]
  },
  {
   "cell_type": "markdown",
   "metadata": {},
   "source": [
    "## 4.\n",
    "What are the most common wine-producing regions? Create a Series counting the number of times each value occurs in the `region_1` field. This field is often missing data, so replace missing values with `Unknown`. Sort in descending order.  Your output should look something like this:\n",
    "\n",
    "```\n",
    "Unknown                    21247\n",
    "Napa Valley                 4480\n",
    "                           ...  \n",
    "Bardolino Superiore            1\n",
    "Primitivo del Tarantino        1\n",
    "Name: region_1, Length: 1230, dtype: int64\n",
    "```"
   ]
  },
  {
   "cell_type": "code",
   "execution_count": null,
   "metadata": {
    "execution": {
     "iopub.execute_input": "2021-12-01T02:51:05.719535Z",
     "iopub.status.busy": "2021-12-01T02:51:05.71911Z",
     "iopub.status.idle": "2021-12-01T02:51:05.79784Z",
     "shell.execute_reply": "2021-12-01T02:51:05.796909Z",
     "shell.execute_reply.started": "2021-12-01T02:51:05.719502Z"
    }
   },
   "outputs": [],
   "source": [
    "reviews_per_region = reviews.region_1.fillna('Unknown').value_counts().sort_values(ascending=False)\n",
    "\n",
    "# Check your answer\n",
    "q4.check()"
   ]
  },
  {
   "cell_type": "markdown",
   "metadata": {},
   "source": [
    "when to use groupby and when to use value_counts?"
   ]
  },
  {
   "cell_type": "markdown",
   "metadata": {},
   "source": [
    "fillna will creat a new Series."
   ]
  },
  {
   "cell_type": "code",
   "execution_count": null,
   "metadata": {
    "execution": {
     "iopub.execute_input": "2021-12-01T02:47:13.629771Z",
     "iopub.status.busy": "2021-12-01T02:47:13.629466Z",
     "iopub.status.idle": "2021-12-01T02:47:13.637304Z",
     "shell.execute_reply": "2021-12-01T02:47:13.636322Z",
     "shell.execute_reply.started": "2021-12-01T02:47:13.629738Z"
    }
   },
   "outputs": [],
   "source": [
    "q4.hint()\n",
    "#q4.solution()"
   ]
  },
  {
   "cell_type": "markdown",
   "metadata": {},
   "source": [
    "# Keep going\n",
    "\n",
    "Move on to **[renaming and combining](https://www.kaggle.com/residentmario/renaming-and-combining)**."
   ]
  },
  {
   "cell_type": "markdown",
   "metadata": {},
   "source": [
    "---\n",
    "\n",
    "\n",
    "\n",
    "\n",
    "*Have questions or comments? Visit the [course discussion forum](https://www.kaggle.com/learn/pandas/discussion) to chat with other learners.*"
   ]
  }
 ],
 "metadata": {
  "kernelspec": {
   "display_name": "Python 3",
   "language": "python",
   "name": "python3"
  },
  "language_info": {
   "codemirror_mode": {
    "name": "ipython",
    "version": 3
   },
   "file_extension": ".py",
   "mimetype": "text/x-python",
   "name": "python",
   "nbconvert_exporter": "python",
   "pygments_lexer": "ipython3",
   "version": "3.7.3"
  }
 },
 "nbformat": 4,
 "nbformat_minor": 4
}
